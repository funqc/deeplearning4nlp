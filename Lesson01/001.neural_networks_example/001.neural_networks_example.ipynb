{
 "cells": [
  {
   "cell_type": "markdown",
   "metadata": {},
   "source": [
    "# 一个简单是分类手写数字的网络\n",
    "\n",
    "我们使用一个三层神经网络来识别数字\n",
    "\n",
    "![](http://7xt4cm.com1.z0.glb.clouddn.com/17-3-18/14897283-file_1489819565433_122a9.png)\n",
    "\n",
    "所有输入层包含有784 = 28 * 28个神经元。输入值是像素的灰度级别，0表示白色，1表示黑色。网络的第二层是一个隐藏层。用n来表示神经元的数量。网络的输出层有10个神经元。如果第一个神经元激活，即输出近似1，则表示网络认为数字是0。以此类推。"
   ]
  },
  {
   "cell_type": "code",
   "execution_count": null,
   "metadata": {
    "collapsed": true
   },
   "outputs": [],
   "source": [
    ""
   ]
  }
 ],
 "metadata": {
  "kernelspec": {
   "display_name": "Python 2",
   "language": "python",
   "name": "python2"
  },
  "language_info": {
   "codemirror_mode": {
    "name": "ipython",
    "version": 2.0
   },
   "file_extension": ".py",
   "mimetype": "text/x-python",
   "name": "python",
   "nbconvert_exporter": "python",
   "pygments_lexer": "ipython2",
   "version": "2.7.13"
  }
 },
 "nbformat": 4,
 "nbformat_minor": 0
}